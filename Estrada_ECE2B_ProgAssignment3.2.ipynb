{
 "cells": [
  {
   "cell_type": "code",
   "execution_count": 4,
   "id": "01efd098-5014-4f78-93c0-ef22050399e6",
   "metadata": {},
   "outputs": [
    {
     "name": "stdout",
     "output_type": "stream",
     "text": [
      "Writing Estrada_Pandas-P2.py\n"
     ]
    }
   ],
   "source": [
    "%%writefile Estrada_Pandas-P2.py\n",
    "\n",
    "import pandas as pd\n",
    "\n",
    "cars = pd.read_csv(\"Cars.csv\")\n",
    "\n",
    "print(\"First five rows with odd-numbered columns:\")\n",
    "print(cars.iloc[:5, ::2])\n",
    "\n",
    "print(\"\\nRow containing 'Mazda RX4':\")\n",
    "print(cars[cars['Model'] == 'Mazda RX4'])\n",
    "\n",
    "camaro_cyl = cars.loc[cars['Model'] == 'Camaro Z28', 'cyl'].values[0]\n",
    "print(f\"\\nCamaro Z28 has {camaro_cyl} cylinders.\")\n",
    "\n",
    "models = ['Mazda RX4 Wag', 'Ford Pantera L', 'Honda Civic']\n",
    "subset = cars.loc[cars['Model'].isin(models), ['Model', 'cyl', 'gear']]\n",
    "print(\"\\nCylinders and gear type for Mazda RX4 Wag, Ford Pantera L, and Honda Civic:\")\n",
    "print(subset)"
   ]
  },
  {
   "cell_type": "code",
   "execution_count": 5,
   "id": "ac452fef-9b05-4dbe-ba28-9ac152d9461d",
   "metadata": {},
   "outputs": [
    {
     "name": "stdout",
     "output_type": "stream",
     "text": [
      "First five rows with odd-numbered columns:\n",
      "               Model  cyl   hp     wt  vs  gear\n",
      "0          Mazda RX4    6  110  2.620   0     4\n",
      "1      Mazda RX4 Wag    6  110  2.875   0     4\n",
      "2         Datsun 710    4   93  2.320   1     4\n",
      "3     Hornet 4 Drive    6  110  3.215   1     3\n",
      "4  Hornet Sportabout    8  175  3.440   0     3\n",
      "\n",
      "Row containing 'Mazda RX4':\n",
      "       Model   mpg  cyl   disp   hp  drat    wt   qsec  vs  am  gear  carb\n",
      "0  Mazda RX4  21.0    6  160.0  110   3.9  2.62  16.46   0   1     4     4\n",
      "\n",
      "Camaro Z28 has 8 cylinders.\n",
      "\n",
      "Cylinders and gear type for Mazda RX4 Wag, Ford Pantera L, and Honda Civic:\n",
      "             Model  cyl  gear\n",
      "1    Mazda RX4 Wag    6     4\n",
      "18     Honda Civic    4     4\n",
      "28  Ford Pantera L    8     5\n"
     ]
    }
   ],
   "source": [
    "%run Estrada_Pandas-P2.py"
   ]
  },
  {
   "cell_type": "code",
   "execution_count": null,
   "id": "1dd8078c-6841-4289-9ba6-4496639e88ec",
   "metadata": {},
   "outputs": [],
   "source": []
  }
 ],
 "metadata": {
  "kernelspec": {
   "display_name": "Python [conda env:base] *",
   "language": "python",
   "name": "conda-base-py"
  },
  "language_info": {
   "codemirror_mode": {
    "name": "ipython",
    "version": 3
   },
   "file_extension": ".py",
   "mimetype": "text/x-python",
   "name": "python",
   "nbconvert_exporter": "python",
   "pygments_lexer": "ipython3",
   "version": "3.13.5"
  }
 },
 "nbformat": 4,
 "nbformat_minor": 5
}
